{
 "cells": [
  {
   "cell_type": "code",
   "execution_count": 1,
   "id": "b6030b31",
   "metadata": {},
   "outputs": [
    {
     "name": "stdout",
     "output_type": "stream",
     "text": [
      "Advanced Text Processing.ipynb     data.txt\r\n",
      "Data Reading From File.ipynb       data2.txt\r\n",
      "Large data from text file.ipynb    data3.txt\r\n",
      "Text processing.ipynb              writing data on a text file.ipynb\r\n"
     ]
    }
   ],
   "source": [
    "ls"
   ]
  },
  {
   "cell_type": "code",
   "execution_count": null,
   "id": "126cbebe",
   "metadata": {},
   "outputs": [],
   "source": [
    "fd = open('text.txt','w')\n",
    "txt = input('Enter the text')\n",
    "txt = txt + '.\\n'\n",
    "fd.write(txt)\n",
    "fd.close()"
   ]
  },
  {
   "cell_type": "code",
   "execution_count": null,
   "id": "2c829ebb",
   "metadata": {},
   "outputs": [],
   "source": []
  }
 ],
 "metadata": {
  "kernelspec": {
   "display_name": "Python 3 (ipykernel)",
   "language": "python",
   "name": "python3"
  },
  "language_info": {
   "codemirror_mode": {
    "name": "ipython",
    "version": 3
   },
   "file_extension": ".py",
   "mimetype": "text/x-python",
   "name": "python",
   "nbconvert_exporter": "python",
   "pygments_lexer": "ipython3",
   "version": "3.9.12"
  }
 },
 "nbformat": 4,
 "nbformat_minor": 5
}
