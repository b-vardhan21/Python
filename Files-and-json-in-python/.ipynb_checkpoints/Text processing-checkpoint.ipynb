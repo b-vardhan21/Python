{
 "cells": [
  {
   "cell_type": "code",
   "execution_count": 1,
   "id": "623b8848",
   "metadata": {},
   "outputs": [],
   "source": [
    "fd = open('data3.txt','r')\n",
    "txt = fd.read()\n",
    "fd.close()"
   ]
  },
  {
   "cell_type": "code",
   "execution_count": 2,
   "id": "7b36141e",
   "metadata": {},
   "outputs": [
    {
     "data": {
      "text/plain": [
       "'The COVID-19 pandemic, also known as the coronavirus pandemic, is an ongoing global pandemic of \\ncoronavirus disease 2019 (COVID-19) caused by severe acute respiratory syndrome coronavirus 2 \\n(SARS-CoV-2). The novel virus was first identified from an outbreak in Wuhan, China, in December 2019. \\nAttempts to contain it there failed, allowing the virus to spread to other areas of China and later \\nworldwide. The World Health Organization (WHO) declared the outbreak a public health emergency of \\ninternational concern on 30 January 2020 and a pandemic on 11 March 2020. As of 13 September 2022, \\nthe pandemic had caused more than 609 million cases and 6.51 million confirmed deaths, making it one \\nof the deadliest in history.\\n\\nCOVID-19 symptoms range from undetectable to deadly, but most commonly include fever, dry cough, and \\nfatigue. Severe illness is more likely in elderly patients and those with certain underlying medical \\nconditions. COVID-19 transmits when people breathe in air contaminated by droplets and small airborne \\nparticles containing the virus. The risk of breathing these in is highest when people are in close \\nproximity, but they can be inhaled over longer distances, particularly indoors. Transmission can also \\noccur if contaminated fluids reach the eyes, nose or mouth, and, rarely, via contaminated surfaces. \\nInfected persons are typically contagious for 10 days, and can spread the virus even if they do not \\ndevelop symptoms. Mutations have produced many strains (variants) with varying degrees of infectivity \\nand virulence.[5][6]\\n\\nCOVID-19 vaccines have been approved and widely distributed in various countries since December 2020. \\nOther recommended preventive measures include social distancing, wearing masks, improving ventilation \\nand air filtration, and quarantining those who have been exposed or are symptomatic. Treatments include \\nmonoclonal antibodies,[7] novel antiviral drugs, and symptom control. Governmental interventions include \\ntravel restrictions, lockdowns, business restrictions and closures, workplace hazard controls, \\nquarantines, testing systems, and tracing contacts of the infected.\\n\\nThe pandemic has triggered severe social and economic disruption around the world, including the largest \\nglobal recession since the Great Depression.[8] Widespread supply shortages, including food shortages, \\nwere caused by supply chain disruption. The resultant near-global lockdowns saw an unprecedented \\npollution decrease. Educational institutions and public areas were partially or fully closed in many \\njurisdictions, and many events were cancelled or postponed. Misinformation circulated through social \\nmedia and mass media, and political tensions intensified. The pandemic raised issues of racial and \\ngeographic discrimination, health equity, and the balance between public health imperatives and \\nindividual rights.'"
      ]
     },
     "execution_count": 2,
     "metadata": {},
     "output_type": "execute_result"
    }
   ],
   "source": [
    "txt\n"
   ]
  },
  {
   "cell_type": "code",
   "execution_count": 5,
   "id": "154fd559",
   "metadata": {},
   "outputs": [
    {
     "data": {
      "text/plain": [
       "['The COVID-19 pandemic, also known as the coronavirus pandemic, is an ongoing global pandemic of \\ncoronavirus disease 2019 (COVID-19) caused by severe acute respiratory syndrome coronavirus 2 \\n(SARS-CoV-2). The novel virus was first identified from an outbreak in Wuhan, China, in December 2019. \\nAttempts to contain it there failed, allowing the virus to spread to other areas of China and later \\nworldwide. The World Health Organization (WHO) declared the outbreak a public health emergency of \\ninternational concern on 30 January 2020 and a pandemic on 11 March 2020. As of 13 September 2022, \\nthe pandemic had caused more than 609 million cases and 6.51 million confirmed deaths, making it one \\nof the deadliest in history.',\n",
       " 'COVID-19 symptoms range from undetectable to deadly, but most commonly include fever, dry cough, and \\nfatigue. Severe illness is more likely in elderly patients and those with certain underlying medical \\nconditions. COVID-19 transmits when people breathe in air contaminated by droplets and small airborne \\nparticles containing the virus. The risk of breathing these in is highest when people are in close \\nproximity, but they can be inhaled over longer distances, particularly indoors. Transmission can also \\noccur if contaminated fluids reach the eyes, nose or mouth, and, rarely, via contaminated surfaces. \\nInfected persons are typically contagious for 10 days, and can spread the virus even if they do not \\ndevelop symptoms. Mutations have produced many strains (variants) with varying degrees of infectivity \\nand virulence.[5][6]',\n",
       " 'COVID-19 vaccines have been approved and widely distributed in various countries since December 2020. \\nOther recommended preventive measures include social distancing, wearing masks, improving ventilation \\nand air filtration, and quarantining those who have been exposed or are symptomatic. Treatments include \\nmonoclonal antibodies,[7] novel antiviral drugs, and symptom control. Governmental interventions include \\ntravel restrictions, lockdowns, business restrictions and closures, workplace hazard controls, \\nquarantines, testing systems, and tracing contacts of the infected.',\n",
       " 'The pandemic has triggered severe social and economic disruption around the world, including the largest \\nglobal recession since the Great Depression.[8] Widespread supply shortages, including food shortages, \\nwere caused by supply chain disruption. The resultant near-global lockdowns saw an unprecedented \\npollution decrease. Educational institutions and public areas were partially or fully closed in many \\njurisdictions, and many events were cancelled or postponed. Misinformation circulated through social \\nmedia and mass media, and political tensions intensified. The pandemic raised issues of racial and \\ngeographic discrimination, health equity, and the balance between public health imperatives and \\nindividual rights.']"
      ]
     },
     "execution_count": 5,
     "metadata": {},
     "output_type": "execute_result"
    }
   ],
   "source": [
    "para = txt.split('\\n\\n')\n"
   ]
  },
  {
   "cell_type": "code",
   "execution_count": 3,
   "id": "47fa0e02",
   "metadata": {},
   "outputs": [
    {
     "name": "stdout",
     "output_type": "stream",
     "text": [
      "The COVID-19 pandemic, also known as the coronavirus pandemic, is an ongoing global pandemic of \n",
      "coronavirus disease 2019 (COVID-19) caused by severe acute respiratory syndrome coronavirus 2 \n",
      "(SARS-CoV-2). The novel virus was first identified from an outbreak in Wuhan, China, in December 2019. \n",
      "Attempts to contain it there failed, allowing the virus to spread to other areas of China and later \n",
      "worldwide. The World Health Organization (WHO) declared the outbreak a public health emergency of \n",
      "international concern on 30 January 2020 and a pandemic on 11 March 2020. As of 13 September 2022, \n",
      "the pandemic had caused more than 609 million cases and 6.51 million confirmed deaths, making it one \n",
      "of the deadliest in history.\n",
      "\n",
      "COVID-19 symptoms range from undetectable to deadly, but most commonly include fever, dry cough, and \n",
      "fatigue. Severe illness is more likely in elderly patients and those with certain underlying medical \n",
      "conditions. COVID-19 transmits when people breathe in air contaminated by droplets and small airborne \n",
      "particles containing the virus. The risk of breathing these in is highest when people are in close \n",
      "proximity, but they can be inhaled over longer distances, particularly indoors. Transmission can also \n",
      "occur if contaminated fluids reach the eyes, nose or mouth, and, rarely, via contaminated surfaces. \n",
      "Infected persons are typically contagious for 10 days, and can spread the virus even if they do not \n",
      "develop symptoms. Mutations have produced many strains (variants) with varying degrees of infectivity \n",
      "and virulence.[5][6]\n",
      "\n",
      "COVID-19 vaccines have been approved and widely distributed in various countries since December 2020. \n",
      "Other recommended preventive measures include social distancing, wearing masks, improving ventilation \n",
      "and air filtration, and quarantining those who have been exposed or are symptomatic. Treatments include \n",
      "monoclonal antibodies,[7] novel antiviral drugs, and symptom control. Governmental interventions include \n",
      "travel restrictions, lockdowns, business restrictions and closures, workplace hazard controls, \n",
      "quarantines, testing systems, and tracing contacts of the infected.\n",
      "\n",
      "The pandemic has triggered severe social and economic disruption around the world, including the largest \n",
      "global recession since the Great Depression.[8] Widespread supply shortages, including food shortages, \n",
      "were caused by supply chain disruption. The resultant near-global lockdowns saw an unprecedented \n",
      "pollution decrease. Educational institutions and public areas were partially or fully closed in many \n",
      "jurisdictions, and many events were cancelled or postponed. Misinformation circulated through social \n",
      "media and mass media, and political tensions intensified. The pandemic raised issues of racial and \n",
      "geographic discrimination, health equity, and the balance between public health imperatives and \n",
      "individual rights.\n"
     ]
    }
   ],
   "source": [
    "print(txt)"
   ]
  },
  {
   "cell_type": "markdown",
   "id": "3d04085d",
   "metadata": {},
   "source": [
    "## Paragraph"
   ]
  },
  {
   "cell_type": "code",
   "execution_count": 7,
   "id": "6f56d8fd",
   "metadata": {},
   "outputs": [
    {
     "data": {
      "text/plain": [
       "4"
      ]
     },
     "execution_count": 7,
     "metadata": {},
     "output_type": "execute_result"
    }
   ],
   "source": [
    "para = txt.split('\\n\\n')\n",
    "len(para)"
   ]
  },
  {
   "cell_type": "code",
   "execution_count": 27,
   "id": "e0ac9137",
   "metadata": {},
   "outputs": [
    {
     "data": {
      "text/plain": [
       "'The COVID-19 pandemic, also known as the coronavirus pandemic, is an ongoing global pandemic of \\ncoronavirus disease 2019 (COVID-19) caused by severe acute respiratory syndrome coronavirus 2 \\n(SARS-CoV-2). The novel virus was first identified from an outbreak in Wuhan, China, in December 2019. \\nAttempts to contain it there failed, allowing the virus to spread to other areas of China and later \\nworldwide. The World Health Organization (WHO) declared the outbreak a public health emergency of \\ninternational concern on 30 January 2020 and a pandemic on 11 March 2020. As of 13 September 2022, \\nthe pandemic had caused more than 609 million cases and 6.51 million confirmed deaths, making it one \\nof the deadliest in history.\\n\\nCOVID-19 symptoms range from undetectable to deadly, but most commonly include fever, dry cough, and \\nfatigue. Severe illness is more likely in elderly patients and those with certain underlying medical \\nconditions. COVID-19 transmits when people breathe in air contaminated by droplets and small airborne \\nparticles containing the virus. The risk of breathing these in is highest when people are in close \\nproximity, but they can be inhaled over longer distances, particularly indoors. Transmission can also \\noccur if contaminated fluids reach the eyes, nose or mouth, and, rarely, via contaminated surfaces. \\nInfected persons are typically contagious for 10 days, and can spread the virus even if they do not \\ndevelop symptoms. Mutations have produced many strains (variants) with varying degrees of infectivity \\nand virulence.[5][6]\\n\\nCOVID-19 vaccines have been approved and widely distributed in various countries since December 2020. \\nOther recommended preventive measures include social distancing, wearing masks, improving ventilation \\nand air filtration, and quarantining those who have been exposed or are symptomatic. Treatments include \\nmonoclonal antibodies,[7] novel antiviral drugs, and symptom control. Governmental interventions include \\ntravel restrictions, lockdowns, business restrictions and closures, workplace hazard controls, \\nquarantines, testing systems, and tracing contacts of the infected.\\n\\nThe pandemic has triggered severe social and economic disruption around the world, including the largest \\nglobal recession since the Great Depression.[8] Widespread supply shortages, including food shortages, \\nwere caused by supply chain disruption. The resultant near-global lockdowns saw an unprecedented \\npollution decrease. Educational institutions and public areas were partially or fully closed in many \\njurisdictions, and many events were cancelled or postponed. Misinformation circulated through social \\nmedia and mass media, and political tensions intensified. The pandemic raised issues of racial and \\ngeographic discrimination, health equity, and the balance between public health imperatives and \\nindividual rights.'"
      ]
     },
     "execution_count": 27,
     "metadata": {},
     "output_type": "execute_result"
    }
   ],
   "source": [
    "txt"
   ]
  },
  {
   "cell_type": "code",
   "execution_count": 28,
   "id": "28655688",
   "metadata": {},
   "outputs": [
    {
     "data": {
      "text/plain": [
       "str"
      ]
     },
     "execution_count": 28,
     "metadata": {},
     "output_type": "execute_result"
    }
   ],
   "source": [
    "type(txt)"
   ]
  },
  {
   "cell_type": "markdown",
   "id": "d8c9112a",
   "metadata": {},
   "source": [
    "## Lines"
   ]
  },
  {
   "cell_type": "code",
   "execution_count": 29,
   "id": "5d533436",
   "metadata": {},
   "outputs": [],
   "source": [
    "lines = txt.split(\".\")"
   ]
  },
  {
   "cell_type": "code",
   "execution_count": 30,
   "id": "71fb9f28",
   "metadata": {},
   "outputs": [
    {
     "data": {
      "text/plain": [
       "24"
      ]
     },
     "execution_count": 30,
     "metadata": {},
     "output_type": "execute_result"
    }
   ],
   "source": [
    "len(lines)"
   ]
  },
  {
   "cell_type": "code",
   "execution_count": 31,
   "id": "5b17d57d",
   "metadata": {},
   "outputs": [
    {
     "data": {
      "text/plain": [
       "23"
      ]
     },
     "execution_count": 31,
     "metadata": {},
     "output_type": "execute_result"
    }
   ],
   "source": [
    "len(lines[:-1])\n",
    "\n"
   ]
  },
  {
   "cell_type": "code",
   "execution_count": 36,
   "id": "c99cff9b",
   "metadata": {},
   "outputs": [
    {
     "data": {
      "text/plain": [
       "'The COVID-19 pandemic, also known as the coronavirus pandemic, is an ongoing global pandemic of \\ncoronavirus disease 2019 (COVID-19) caused by severe acute respiratory syndrome coronavirus 2 \\n(SARS-CoV-2). The novel virus was first identified from an outbreak in Wuhan, China, in December 2019. \\nAttempts to contain it there failed, allowing the virus to spread to other areas of China and later \\nworldwide. The World Health Organization (WHO) declared the outbreak a public health emergency of \\ninternational concern on 30 January 2020 and a pandemic on 11 March 2020. As of 13 September 2022, \\nthe pandemic had caused more than 609 million cases and 6.51 million confirmed deaths, making it one \\nof the deadliest in history.\\n\\nCOVID-19 symptoms range from undetectable to deadly, but most commonly include fever, dry cough, and \\nfatigue. Severe illness is more likely in elderly patients and those with certain underlying medical \\nconditions. COVID-19 transmits when people breathe in air contaminated by droplets and small airborne \\nparticles containing the virus. The risk of breathing these in is highest when people are in close \\nproximity, but they can be inhaled over longer distances, particularly indoors. Transmission can also \\noccur if contaminated fluids reach the eyes, nose or mouth, and, rarely, via contaminated surfaces. \\nInfected persons are typically contagious for 10 days, and can spread the virus even if they do not \\ndevelop symptoms. Mutations have produced many strains (variants) with varying degrees of infectivity \\nand virulence.[5][6]\\n\\nCOVID-19 vaccines have been approved and widely distributed in various countries since December 2020. \\nOther recommended preventive measures include social distancing, wearing masks, improving ventilation \\nand air filtration, and quarantining those who have been exposed or are symptomatic. Treatments include \\nmonoclonal antibodies,[7] novel antiviral drugs, and symptom control. Governmental interventions include \\ntravel restrictions, lockdowns, business restrictions and closures, workplace hazard controls, \\nquarantines, testing systems, and tracing contacts of the infected.\\n\\nThe pandemic has triggered severe social and economic disruption around the world, including the largest \\nglobal recession since the Great Depression.[8] Widespread supply shortages, including food shortages, \\nwere caused by supply chain disruption. The resultant near-global lockdowns saw an unprecedented \\npollution decrease. Educational institutions and public areas were partially or fully closed in many \\njurisdictions, and many events were cancelled or postponed. Misinformation circulated through social \\nmedia and mass media, and political tensions intensified. The pandemic raised issues of racial and \\ngeographic discrimination, health equity, and the balance between public health imperatives and \\nindividual rights.'"
      ]
     },
     "execution_count": 36,
     "metadata": {},
     "output_type": "execute_result"
    }
   ],
   "source": [
    "txt"
   ]
  },
  {
   "cell_type": "markdown",
   "id": "d9ca3f27",
   "metadata": {},
   "source": [
    "## words"
   ]
  },
  {
   "cell_type": "code",
   "execution_count": 39,
   "id": "26341556",
   "metadata": {},
   "outputs": [
    {
     "data": {
      "text/plain": [
       "400"
      ]
     },
     "execution_count": 39,
     "metadata": {},
     "output_type": "execute_result"
    }
   ],
   "source": [
    "words = txt.split(\" \")\n",
    "len(words)"
   ]
  },
  {
   "cell_type": "code",
   "execution_count": null,
   "id": "a8495acc",
   "metadata": {},
   "outputs": [],
   "source": []
  }
 ],
 "metadata": {
  "kernelspec": {
   "display_name": "Python 3 (ipykernel)",
   "language": "python",
   "name": "python3"
  },
  "language_info": {
   "codemirror_mode": {
    "name": "ipython",
    "version": 3
   },
   "file_extension": ".py",
   "mimetype": "text/x-python",
   "name": "python",
   "nbconvert_exporter": "python",
   "pygments_lexer": "ipython3",
   "version": "3.9.12"
  }
 },
 "nbformat": 4,
 "nbformat_minor": 5
}
