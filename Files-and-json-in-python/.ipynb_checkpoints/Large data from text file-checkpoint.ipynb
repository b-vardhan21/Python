{
 "cells": [
  {
   "cell_type": "code",
   "execution_count": 4,
   "id": "e49cdcda",
   "metadata": {},
   "outputs": [],
   "source": [
    "fd = open('data2.txt','r')\n",
    "txt = fd.read()\n",
    "fd.close()"
   ]
  },
  {
   "cell_type": "code",
   "execution_count": 3,
   "id": "8e579e11",
   "metadata": {},
   "outputs": [
    {
     "name": "stdout",
     "output_type": "stream",
     "text": [
      "Coronavirus disease 2019 (COVID-19) is a contagious disease caused by a virus, the severe acute \n",
      "respiratory syndrome coronavirus 2 (SARS-CoV-2). The first known case was identified in Wuhan, China, \n",
      "in December 2019.[7] The disease quickly spread worldwide, resulting in the COVID-19 pandemic.\n",
      "\n",
      "Symptoms of COVID‑19 are variable, but often include fever,[8] cough, headache,[9] fatigue, \n",
      "breathing difficulties, loss of smell, and loss of taste.[10][11][12] Symptoms may begin one \n",
      "to fourteen days after exposure to the virus. At least a third of people who are infected do not \n",
      "develop noticeable symptoms.[13] Of those people who develop symptoms noticeable enough to be \n",
      "classed as patients, most (81%) develop mild to moderate symptoms (up to mild pneumonia), \n",
      "while 14% develop severe symptoms (dyspnoea, hypoxia, or more than 50% lung involvement on imaging), \n",
      "and 5% develop critical symptoms (respiratory failure, shock, or multiorgan dysfunction).[14] Older \n",
      "people are at a higher risk of developing severe symptoms. Some people continue to experience a range \n",
      "of effects (long COVID) for months after recovery, and damage to organs has been observed.[15] \n",
      "Multi-year studies are underway to further investigate the long-term effects of the disease.[15]\n",
      "\n",
      "COVID‑19 transmits when people breathe air contaminated by droplets and small airborne particles\n",
      "containing the virus. The risk of breathing these is highest when people are in close proximity, \n",
      "but they can be inhaled over longer distances, particularly indoors. Transmission can also occur \n",
      "if splashed or sprayed with contaminated fluids in the eyes, nose or mouth, and, rarely, via contaminated\n",
      "surfaces. People remain contagious for up to 20 days, and can spread the virus even if they do not \n",
      "develop symptoms.[16][17]\n",
      "\n",
      "COVID-19 testing methods to detect the virus's nucleic acid include real-time reverse transcription \n",
      "polymerase chain reaction (rRT‑PCR),[18][19] transcription-mediated amplification,[18][19][20] and \n",
      "reverse transcription loop-mediated isothermal amplification (RT‑LAMP)[18][19] from a nasopharyngeal \n",
      "swab.[21]\n",
      "\n",
      "Several COVID-19 vaccines have been approved and distributed in various countries, which have \n",
      "initiated mass vaccination campaigns. Other preventive measures include physical or social distancing, \n",
      "quarantining, ventilation of indoor spaces, covering coughs and sneezes, hand washing, and keeping \n",
      "unwashed hands away from the face. The use of face masks or coverings has been recommended in public \n",
      "settings to minimise the risk of transmission. While work is underway to develop drugs that inhibit \n",
      "the virus, the primary treatment is symptomatic. Management involves the treatment of symptoms, \n",
      "supportive care, isolation, and experimental measures.\n"
     ]
    }
   ],
   "source": [
    "print(txt)\n"
   ]
  },
  {
   "cell_type": "code",
   "execution_count": 8,
   "id": "eed67fbd",
   "metadata": {
    "scrolled": true
   },
   "outputs": [
    {
     "data": {
      "text/plain": [
       "\"Coronavirus disease 2019 (COVID-19) is a contagious disease caused by a virus, the severe acute \\nrespiratory syndrome coronavirus 2 (SARS-CoV-2). The first known case was identified in Wuhan, China, \\nin December 2019.[7] The disease quickly spread worldwide, resulting in the COVID-19 pandemic. Symptoms of COVID‑19 are variable, but often include fever,[8] cough, headache,[9] fatigue, \\nbreathing difficulties, loss of smell, and loss of taste.[10][11][12] Symptoms may begin one \\nto fourteen days after exposure to the virus. At least a third of people who are infected do not \\ndevelop noticeable symptoms.[13] Of those people who develop symptoms noticeable enough to be \\nclassed as patients, most (81%) develop mild to moderate symptoms (up to mild pneumonia), \\nwhile 14% develop severe symptoms (dyspnoea, hypoxia, or more than 50% lung involvement on imaging), \\nand 5% develop critical symptoms (respiratory failure, shock, or multiorgan dysfunction).[14] Older \\npeople are at a higher risk of developing severe symptoms. Some people continue to experience a range \\nof effects (long COVID) for months after recovery, and damage to organs has been observed.[15] \\nMulti-year studies are underway to further investigate the long-term effects of the disease.[15] COVID‑19 transmits when people breathe air contaminated by droplets and small airborne particles\\ncontaining the virus. The risk of breathing these is highest when people are in close proximity, \\nbut they can be inhaled over longer distances, particularly indoors. Transmission can also occur \\nif splashed or sprayed with contaminated fluids in the eyes, nose or mouth, and, rarely, via contaminated\\nsurfaces. People remain contagious for up to 20 days, and can spread the virus even if they do not \\ndevelop symptoms.[16][17] COVID-19 testing methods to detect the virus's nucleic acid include real-time reverse transcription \\npolymerase chain reaction (rRT‑PCR),[18][19] transcription-mediated amplification,[18][19][20] and \\nreverse transcription loop-mediated isothermal amplification (RT‑LAMP)[18][19] from a nasopharyngeal \\nswab.[21] Several COVID-19 vaccines have been approved and distributed in various countries, which have \\ninitiated mass vaccination campaigns. Other preventive measures include physical or social distancing, \\nquarantining, ventilation of indoor spaces, covering coughs and sneezes, hand washing, and keeping \\nunwashed hands away from the face. The use of face masks or coverings has been recommended in public \\nsettings to minimise the risk of transmission. While work is underway to develop drugs that inhibit \\nthe virus, the primary treatment is symptomatic. Management involves the treatment of symptoms, \\nsupportive care, isolation, and experimental measures.\""
      ]
     },
     "execution_count": 8,
     "metadata": {},
     "output_type": "execute_result"
    }
   ],
   "source": [
    "txt.replace('\\n\\n',' ')"
   ]
  },
  {
   "cell_type": "code",
   "execution_count": 9,
   "id": "01ee41af",
   "metadata": {},
   "outputs": [
    {
     "data": {
      "text/plain": [
       "\"Coronavirus disease 2019 (COVID-19) is a contagious disease caused by a virus, the severe acute  respiratory syndrome coronavirus 2 (SARS-CoV-2). The first known case was identified in Wuhan, China,  in December 2019.[7] The disease quickly spread worldwide, resulting in the COVID-19 pandemic.  Symptoms of COVID‑19 are variable, but often include fever,[8] cough, headache,[9] fatigue,  breathing difficulties, loss of smell, and loss of taste.[10][11][12] Symptoms may begin one  to fourteen days after exposure to the virus. At least a third of people who are infected do not  develop noticeable symptoms.[13] Of those people who develop symptoms noticeable enough to be  classed as patients, most (81%) develop mild to moderate symptoms (up to mild pneumonia),  while 14% develop severe symptoms (dyspnoea, hypoxia, or more than 50% lung involvement on imaging),  and 5% develop critical symptoms (respiratory failure, shock, or multiorgan dysfunction).[14] Older  people are at a higher risk of developing severe symptoms. Some people continue to experience a range  of effects (long COVID) for months after recovery, and damage to organs has been observed.[15]  Multi-year studies are underway to further investigate the long-term effects of the disease.[15]  COVID‑19 transmits when people breathe air contaminated by droplets and small airborne particles containing the virus. The risk of breathing these is highest when people are in close proximity,  but they can be inhaled over longer distances, particularly indoors. Transmission can also occur  if splashed or sprayed with contaminated fluids in the eyes, nose or mouth, and, rarely, via contaminated surfaces. People remain contagious for up to 20 days, and can spread the virus even if they do not  develop symptoms.[16][17]  COVID-19 testing methods to detect the virus's nucleic acid include real-time reverse transcription  polymerase chain reaction (rRT‑PCR),[18][19] transcription-mediated amplification,[18][19][20] and  reverse transcription loop-mediated isothermal amplification (RT‑LAMP)[18][19] from a nasopharyngeal  swab.[21]  Several COVID-19 vaccines have been approved and distributed in various countries, which have  initiated mass vaccination campaigns. Other preventive measures include physical or social distancing,  quarantining, ventilation of indoor spaces, covering coughs and sneezes, hand washing, and keeping  unwashed hands away from the face. The use of face masks or coverings has been recommended in public  settings to minimise the risk of transmission. While work is underway to develop drugs that inhibit  the virus, the primary treatment is symptomatic. Management involves the treatment of symptoms,  supportive care, isolation, and experimental measures.\""
      ]
     },
     "execution_count": 9,
     "metadata": {},
     "output_type": "execute_result"
    }
   ],
   "source": [
    "txt.replace('\\n',' ')"
   ]
  },
  {
   "cell_type": "code",
   "execution_count": 10,
   "id": "c53cfbed",
   "metadata": {},
   "outputs": [
    {
     "name": "stdout",
     "output_type": "stream",
     "text": [
      "Coronavirus disease 2019 (COVID-19) is a contagious disease caused by a virus, the severe acute \n",
      "respiratory syndrome coronavirus 2 (SARS-CoV-2). The first known case was identified in Wuhan, China, \n",
      "in December 2019.[7] The disease quickly spread worldwide, resulting in the COVID-19 pandemic.\n",
      "\n",
      "Symptoms of COVID‑19 are variable, but often include fever,[8] cough, headache,[9] fatigue, \n",
      "breathing difficulties, loss of smell, and loss of taste.[10][11][12] Symptoms may begin one \n",
      "to fourteen days after exposure to the virus. At least a third of people who are infected do not \n",
      "develop noticeable symptoms.[13] Of those people who develop symptoms noticeable enough to be \n",
      "classed as patients, most (81%) develop mild to moderate symptoms (up to mild pneumonia), \n",
      "while 14% develop severe symptoms (dyspnoea, hypoxia, or more than 50% lung involvement on imaging), \n",
      "and 5% develop critical symptoms (respiratory failure, shock, or multiorgan dysfunction).[14] Older \n",
      "people are at a higher risk of developing severe symptoms. Some people continue to experience a range \n",
      "of effects (long COVID) for months after recovery, and damage to organs has been observed.[15] \n",
      "Multi-year studies are underway to further investigate the long-term effects of the disease.[15]\n",
      "\n",
      "COVID‑19 transmits when people breathe air contaminated by droplets and small airborne particles\n",
      "containing the virus. The risk of breathing these is highest when people are in close proximity, \n",
      "but they can be inhaled over longer distances, particularly indoors. Transmission can also occur \n",
      "if splashed or sprayed with contaminated fluids in the eyes, nose or mouth, and, rarely, via contaminated\n",
      "surfaces. People remain contagious for up to 20 days, and can spread the virus even if they do not \n",
      "develop symptoms.[16][17]\n",
      "\n",
      "COVID-19 testing methods to detect the virus's nucleic acid include real-time reverse transcription \n",
      "polymerase chain reaction (rRT‑PCR),[18][19] transcription-mediated amplification,[18][19][20] and \n",
      "reverse transcription loop-mediated isothermal amplification (RT‑LAMP)[18][19] from a nasopharyngeal \n",
      "swab.[21]\n",
      "\n",
      "Several COVID-19 vaccines have been approved and distributed in various countries, which have \n",
      "initiated mass vaccination campaigns. Other preventive measures include physical or social distancing, \n",
      "quarantining, ventilation of indoor spaces, covering coughs and sneezes, hand washing, and keeping \n",
      "unwashed hands away from the face. The use of face masks or coverings has been recommended in public \n",
      "settings to minimise the risk of transmission. While work is underway to develop drugs that inhibit \n",
      "the virus, the primary treatment is symptomatic. Management involves the treatment of symptoms, \n",
      "supportive care, isolation, and experimental measures.\n"
     ]
    }
   ],
   "source": [
    "print(txt)"
   ]
  },
  {
   "cell_type": "code",
   "execution_count": null,
   "id": "dcad93cd",
   "metadata": {},
   "outputs": [],
   "source": []
  }
 ],
 "metadata": {
  "kernelspec": {
   "display_name": "Python 3 (ipykernel)",
   "language": "python",
   "name": "python3"
  },
  "language_info": {
   "codemirror_mode": {
    "name": "ipython",
    "version": 3
   },
   "file_extension": ".py",
   "mimetype": "text/x-python",
   "name": "python",
   "nbconvert_exporter": "python",
   "pygments_lexer": "ipython3",
   "version": "3.9.12"
  }
 },
 "nbformat": 4,
 "nbformat_minor": 5
}
