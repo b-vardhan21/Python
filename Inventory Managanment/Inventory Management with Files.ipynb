{
 "cells": [
  {
   "cell_type": "code",
   "execution_count": 1,
   "id": "148646c2",
   "metadata": {},
   "outputs": [],
   "source": [
    "fd = open('Inventory.txt', 'w')\n",
    "fd.close()"
   ]
  },
  {
   "cell_type": "markdown",
   "id": "c8852d2f",
   "metadata": {},
   "source": [
    "## Product Details\n",
    "1. Product ID\n",
    "2. Name of Product\n",
    "3. Price of Product\n",
    "4. Quantity\n"
   ]
  },
  {
   "cell_type": "code",
   "execution_count": 3,
   "id": "ca33043e",
   "metadata": {},
   "outputs": [],
   "source": [
    "fd = open('Inventory.txt','r')\n",
    "          \n",
    "txt = fd.read()\n",
    "          \n",
    "fd.close()"
   ]
  },
  {
   "cell_type": "code",
   "execution_count": 5,
   "id": "cf6076f2",
   "metadata": {},
   "outputs": [
    {
     "name": "stdout",
     "output_type": "stream",
     "text": [
      "1,5 Star,5,100\n",
      "2,Milky Bar,5,100\n",
      "3,Cake,300,5\n",
      "4,Candy,1,200\n"
     ]
    }
   ],
   "source": [
    "print(txt)\n"
   ]
  },
  {
   "cell_type": "code",
   "execution_count": 7,
   "id": "8fef4958",
   "metadata": {},
   "outputs": [
    {
     "data": {
      "text/plain": [
       "4"
      ]
     },
     "execution_count": 7,
     "metadata": {},
     "output_type": "execute_result"
    }
   ],
   "source": [
    "len(txt.split('\\n'))"
   ]
  },
  {
   "cell_type": "code",
   "execution_count": 9,
   "id": "e2ea0481",
   "metadata": {},
   "outputs": [],
   "source": [
    "fd = open('Inventory.txt','r')\n",
    "          \n",
    "products = fd.read().split('\\n')\n",
    "          \n",
    "fd.close()"
   ]
  },
  {
   "cell_type": "code",
   "execution_count": 10,
   "id": "6e8114db",
   "metadata": {},
   "outputs": [
    {
     "name": "stdout",
     "output_type": "stream",
     "text": [
      "1,5 Star,5,100\n",
      "['1', '5 Star', '5', '100']\n",
      "2,Milky Bar,5,100\n",
      "['2', 'Milky Bar', '5', '100']\n",
      "3,Cake,300,5\n",
      "['3', 'Cake', '300', '5']\n",
      "4,Candy,1,200\n",
      "['4', 'Candy', '1', '200']\n"
     ]
    }
   ],
   "source": [
    "for product in products:\n",
    "    print(product)\n",
    "    print(product.split(','))"
   ]
  },
  {
   "cell_type": "code",
   "execution_count": 11,
   "id": "ba4176d2",
   "metadata": {},
   "outputs": [
    {
     "name": "stdout",
     "output_type": "stream",
     "text": [
      "Enter product Id:3\n",
      "3,Cake,300,5\n"
     ]
    }
   ],
   "source": [
    "ui_prod_id = input('Enter product Id:')\n",
    "for product in products:\n",
    "    if(product.split(',')[0] == ui_prod_id):\n",
    "        print(product)"
   ]
  },
  {
   "cell_type": "code",
   "execution_count": 12,
   "id": "19d3460c",
   "metadata": {},
   "outputs": [
    {
     "name": "stdout",
     "output_type": "stream",
     "text": [
      "Enter product Id:1\n",
      "Enter product Quantity:2\n",
      "['1', '5 Star', '5', '100']\n"
     ]
    }
   ],
   "source": [
    "ui_prod_id = input('Enter product Id:')\n",
    "ui_prod_qn = input('Enter product Quantity:')\n",
    "for product in products:\n",
    "    if(product.split(',')[0] == ui_prod_id):\n",
    "        print(product.split(','))"
   ]
  },
  {
   "cell_type": "code",
   "execution_count": null,
   "id": "3a6b7289",
   "metadata": {},
   "outputs": [
    {
     "name": "stdout",
     "output_type": "stream",
     "text": [
      "Enter product Id:1\n",
      "Enter product Quantity:101\n",
      "Not enough quatity, we have only 40  quatity\n",
      "Would you like to purchase\n"
     ]
    }
   ],
   "source": [
    "fd = open('Inventory.txt','r')\n",
    "          \n",
    "products = fd.read().split('\\n')\n",
    "          \n",
    "fd.close()\n",
    "\n",
    "ui_prod_id = input('Enter product Id:')\n",
    "ui_prod_qn = input('Enter product Quantity:')\n",
    "\n",
    "Updated_product_list = []\n",
    "\n",
    "for product in products:\n",
    "    product_details = product.split(',')\n",
    "    if(product.split(',')[0] == ui_prod_id):\n",
    "        \n",
    "        if(int(ui_prod_qn) <= int(product_details[3])):\n",
    "            \n",
    "            \n",
    "            \n",
    "            print('-----------------------------')\n",
    "            print('product Name.      :',product_details[1])\n",
    "            print('product Price.     :',product_details[2])\n",
    "            print('product Quantity.  :',ui_prod_qn)\n",
    "            print('-----------------------------')\n",
    "            print('Billing Amount.    :',int(ui_prod_qn) + int(product_details[2]))\n",
    "            print('-----------------------------')\n",
    "            product_details[3] = str(int(product_details[3]) - int(ui_prod_qn))\n",
    "        else:\n",
    "           print('Not enough quatity, we have only', product_details[3],' quatity')\n",
    "           print('Would you like to purchase')\n",
    "           \n",
    "           ch = input('Press y/n')\n",
    "           \n",
    "           if(ch == 'Y' or ch == 'y'):\n",
    "                print('-----------------------------')\n",
    "                print('product Name.      :',product_details[1])\n",
    "                print('product Price.     :',product_details[2])\n",
    "                print('product Quantity.  :',product_details[3])\n",
    "                print('-----------------------------')\n",
    "                print('Billing Amount.    :',int(ui_prod_qn) * int(product_details[2]))\n",
    "                print('-----------------------------')\n",
    "                product_details[3] = '0'\n",
    "               \n",
    "           \n",
    "    Updated_product_list.append(product_details)\n",
    "    \n",
    "    \n",
    "lst = []\n",
    "\n",
    "for i in Updated_product_list:\n",
    "    prod = i[0] +\",\"+ i[1]+\",\"+i[2]+\",\"+i[3] +'\\n'\n",
    "    lst.append(prod)\n",
    "    \n",
    "lst[-1] = lst[-1][:-1]\n",
    "\n",
    "fd = open('Inventory.txt','w')\n",
    "\n",
    "for i in lst:\n",
    "    fd.write(i)\n",
    "    \n",
    "fd.close()\n",
    "        "
   ]
  },
  {
   "cell_type": "code",
   "execution_count": 19,
   "id": "1ebb9163",
   "metadata": {},
   "outputs": [
    {
     "name": "stdout",
     "output_type": "stream",
     "text": [
      "1,5 Star,5,5\n",
      "2,Milky Bar,5,5\n",
      "3,Cake,300,300\n",
      "4,Candy,1,1\n"
     ]
    }
   ],
   "source": [
    "for i in Updated_product_list:\n",
    "    prod = i[0] +\",\"+ i[1]+\",\"+i[2]+\",\"+i[2]\n",
    "    print(prod)"
   ]
  },
  {
   "cell_type": "code",
   "execution_count": 20,
   "id": "ea5f3b71",
   "metadata": {},
   "outputs": [],
   "source": [
    "fd = open('Inventory.txt','w')\n",
    "\n",
    "for i in Updated_product_list:\n",
    "    prod = i[0] +\",\"+ i[1]+\",\"+i[2]+\",\"+i[2]\n",
    "    fd.write(prod)\n",
    "\n",
    "fd.close()\n",
    "    "
   ]
  },
  {
   "cell_type": "code",
   "execution_count": null,
   "id": "252bfb1d",
   "metadata": {},
   "outputs": [],
   "source": []
  }
 ],
 "metadata": {
  "kernelspec": {
   "display_name": "Python 3 (ipykernel)",
   "language": "python",
   "name": "python3"
  },
  "language_info": {
   "codemirror_mode": {
    "name": "ipython",
    "version": 3
   },
   "file_extension": ".py",
   "mimetype": "text/x-python",
   "name": "python",
   "nbconvert_exporter": "python",
   "pygments_lexer": "ipython3",
   "version": "3.9.12"
  }
 },
 "nbformat": 4,
 "nbformat_minor": 5
}
