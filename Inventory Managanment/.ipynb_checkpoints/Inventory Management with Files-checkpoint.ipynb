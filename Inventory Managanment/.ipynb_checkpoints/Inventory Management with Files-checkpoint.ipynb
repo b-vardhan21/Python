{
 "cells": [
  {
   "cell_type": "code",
   "execution_count": 1,
   "id": "532c281e",
   "metadata": {},
   "outputs": [],
   "source": [
    "fd = open('Inventory.txt', 'w')\n",
    "fd.close()"
   ]
  },
  {
   "cell_type": "markdown",
   "id": "f951ed9c",
   "metadata": {},
   "source": [
    "## Product Details\n",
    "1. Product ID\n",
    "2. Name of Product\n",
    "3. Price of Product\n",
    "4. Quantity\n"
   ]
  },
  {
   "cell_type": "code",
   "execution_count": 3,
   "id": "8e6c0c95",
   "metadata": {},
   "outputs": [],
   "source": [
    "fd = open('Inventory.txt','r')\n",
    "          \n",
    "txt = fd.read()\n",
    "          \n",
    "fd.close()"
   ]
  },
  {
   "cell_type": "code",
   "execution_count": 5,
   "id": "d3b130d4",
   "metadata": {},
   "outputs": [
    {
     "name": "stdout",
     "output_type": "stream",
     "text": [
      "1,5 Star,5,100\n",
      "2,Milky Bar,5,100\n",
      "3,Cake,300,5\n",
      "4,Candy,1,200\n"
     ]
    }
   ],
   "source": [
    "print(txt)\n"
   ]
  },
  {
   "cell_type": "code",
   "execution_count": 7,
   "id": "47281848",
   "metadata": {},
   "outputs": [
    {
     "data": {
      "text/plain": [
       "4"
      ]
     },
     "execution_count": 7,
     "metadata": {},
     "output_type": "execute_result"
    }
   ],
   "source": [
    "len(txt.split('\\n'))"
   ]
  },
  {
   "cell_type": "code",
   "execution_count": 9,
   "id": "9bbf372c",
   "metadata": {},
   "outputs": [],
   "source": [
    "fd = open('Inventory.txt','r')\n",
    "          \n",
    "products = fd.read().split('\\n')\n",
    "          \n",
    "fd.close()"
   ]
  },
  {
   "cell_type": "code",
   "execution_count": 10,
   "id": "5b286829",
   "metadata": {},
   "outputs": [
    {
     "name": "stdout",
     "output_type": "stream",
     "text": [
      "1,5 Star,5,100\n",
      "['1', '5 Star', '5', '100']\n",
      "2,Milky Bar,5,100\n",
      "['2', 'Milky Bar', '5', '100']\n",
      "3,Cake,300,5\n",
      "['3', 'Cake', '300', '5']\n",
      "4,Candy,1,200\n",
      "['4', 'Candy', '1', '200']\n"
     ]
    }
   ],
   "source": [
    "for product in products:\n",
    "    print(product)\n",
    "    print(product.split(','))"
   ]
  },
  {
   "cell_type": "code",
   "execution_count": 11,
   "id": "f6106ca0",
   "metadata": {},
   "outputs": [
    {
     "name": "stdout",
     "output_type": "stream",
     "text": [
      "Enter product Id:3\n",
      "3,Cake,300,5\n"
     ]
    }
   ],
   "source": [
    "ui_prod_id = input('Enter product Id:')\n",
    "for product in products:\n",
    "    if(product.split(',')[0] == ui_prod_id):\n",
    "        print(product)"
   ]
  },
  {
   "cell_type": "code",
   "execution_count": 12,
   "id": "b88784b8",
   "metadata": {},
   "outputs": [
    {
     "name": "stdout",
     "output_type": "stream",
     "text": [
      "Enter product Id:1\n",
      "Enter product Quantity:2\n",
      "['1', '5 Star', '5', '100']\n"
     ]
    }
   ],
   "source": [
    "ui_prod_id = input('Enter product Id:')\n",
    "ui_prod_qn = input('Enter product Quantity:')\n",
    "for product in products:\n",
    "    if(product.split(',')[0] == ui_prod_id):\n",
    "        print(product.split(','))"
   ]
  },
  {
   "cell_type": "code",
   "execution_count": 15,
   "id": "460c50ab",
   "metadata": {},
   "outputs": [
    {
     "name": "stdout",
     "output_type": "stream",
     "text": [
      "Enter product Id:1\n",
      "Enter product Quantity:2\n",
      "-----------------------------\n",
      "product Name.      : 5 Star\n",
      "product Price.     : 5 Star\n",
      "product Quantity.  : 2\n",
      "Billing Amount.    : 7\n",
      "-----------------------------\n"
     ]
    }
   ],
   "source": [
    "ui_prod_id = input('Enter product Id:')\n",
    "ui_prod_qn = input('Enter product Quantity:')\n",
    "for product in products:\n",
    "    product_details = product.split(',')\n",
    "    if(product.split(',')[0] == ui_prod_id):\n",
    "        print('-----------------------------')\n",
    "        print('product Name.      :',product_details[1])\n",
    "        print('product Price.     :',product_details[1])\n",
    "        print('product Quantity.  :',ui_prod_qn)\n",
    "        print('-----------------------------')\n",
    "        print('Billing Amount.    :',int(ui_prod_qn) + int(product_details[2]))\n",
    "        \n",
    "        product_details[3] = int(product_details[3]) - int(ui_prod_qn)\n",
    "    \n",
    "    print(product_details)\n",
    "        "
   ]
  },
  {
   "cell_type": "code",
   "execution_count": null,
   "id": "e37eca5b",
   "metadata": {},
   "outputs": [],
   "source": []
  }
 ],
 "metadata": {
  "kernelspec": {
   "display_name": "Python 3 (ipykernel)",
   "language": "python",
   "name": "python3"
  },
  "language_info": {
   "codemirror_mode": {
    "name": "ipython",
    "version": 3
   },
   "file_extension": ".py",
   "mimetype": "text/x-python",
   "name": "python",
   "nbconvert_exporter": "python",
   "pygments_lexer": "ipython3",
   "version": "3.9.12"
  }
 },
 "nbformat": 4,
 "nbformat_minor": 5
}
